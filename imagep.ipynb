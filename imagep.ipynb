{
 "cells": [
  {
   "cell_type": "code",
   "execution_count": 1,
   "id": "1170d3e2",
   "metadata": {},
   "outputs": [],
   "source": [
    "import cv2\n",
    "from sklearn.tree import DecisionTreeClassifier\n",
    "from sklearn import tree\n",
    "import joblib\n",
    "import numpy as np"
   ]
  },
  {
   "cell_type": "code",
   "execution_count": 2,
   "id": "1979bf5c",
   "metadata": {},
   "outputs": [],
   "source": [
    "dark_video = cv2.VideoCapture('data/img/dark.mov')\n",
    "light_video = cv2.VideoCapture('data/img/light.mov')"
   ]
  },
  {
   "cell_type": "code",
   "execution_count": 3,
   "id": "f5d42cdd",
   "metadata": {},
   "outputs": [],
   "source": [
    "def get_frame(name, vid, sec):\n",
    "    vid.set(cv2.CAP_PROP_POS_MSEC, sec*1000)\n",
    "    hasFrames, image = vid.read()\n",
    "    if hasFrames:\n",
    "        cv2.imwrite(name + str(count) + '.jpg', image)\n",
    "    return hasFrames"
   ]
  },
  {
   "cell_type": "code",
   "execution_count": 4,
   "id": "c54cf8aa",
   "metadata": {},
   "outputs": [],
   "source": [
    "frame_rate = 0.1\n",
    "count = 1\n",
    "sec = 0\n",
    "success = get_frame(\"data/img/dark\", dark_video, sec)\n",
    "while success and count < 50:\n",
    "    count += 1\n",
    "    sec += frame_rate\n",
    "    sec = round(sec, 2)\n",
    "    success = get_frame(\"data/img/dark\", dark_video, sec)\n",
    "    \n",
    "frame_rate = 0.1\n",
    "count = 1\n",
    "sec = 0\n",
    "success = get_frame(\"data/img/light\", light_video, sec)\n",
    "while success and count < 50:\n",
    "    count += 1\n",
    "    sec += frame_rate\n",
    "    sec = round(sec, 2)\n",
    "    success = get_frame(\"data/img/light\", light_video, sec)"
   ]
  },
  {
   "cell_type": "code",
   "execution_count": 5,
   "id": "49f23c56",
   "metadata": {},
   "outputs": [
    {
     "name": "stdout",
     "output_type": "stream",
     "text": [
      "[[  6  10   7 ...  13  13  16]\n",
      " [250 234 212 ... 110 112 111]\n",
      " [ 11  11   9 ...  13  14  16]\n",
      " ...\n",
      " [ 53  53  54 ... 136 135 134]\n",
      " [ 13  10   9 ...   1   0   0]\n",
      " [ 50  50  49 ... 177 189 188]]\n"
     ]
    }
   ],
   "source": [
    "X_train = []\n",
    "y_train = []\n",
    "for i in range(1, 50):\n",
    "    img_s = cv2.imread('data/img/dark' + str(i) + '.jpg', 0).flatten()\n",
    "    img_n = cv2.imread('data/img/light' + str(i) + '.jpg', 0).flatten()\n",
    "    X_train.append(img_s)\n",
    "    y_train.append(\"Dark\")\n",
    "    X_train.append(img_n)\n",
    "    y_train.append(\"Light\")\n",
    "X_train = np.array(X_train)\n",
    "print(X_train)\n"
   ]
  },
  {
   "cell_type": "code",
   "execution_count": 6,
   "id": "af11aeb8",
   "metadata": {},
   "outputs": [
    {
     "data": {
      "text/plain": [
       "['shade.joblib']"
      ]
     },
     "execution_count": 6,
     "metadata": {},
     "output_type": "execute_result"
    }
   ],
   "source": [
    "model = DecisionTreeClassifier()\n",
    "model.fit(X_train, y_train)\n",
    "\n",
    "joblib.dump(model, 'shade.joblib')"
   ]
  },
  {
   "cell_type": "code",
   "execution_count": 7,
   "id": "dc6c6254",
   "metadata": {},
   "outputs": [],
   "source": [
    "tree.export_graphviz(model, \n",
    "                     out_file='shade.dot', \n",
    "                     class_names=['Dark', 'Light'], \n",
    "                     label='all',\n",
    "                     rounded=True, \n",
    "                     filled=True)"
   ]
  },
  {
   "cell_type": "code",
   "execution_count": null,
   "id": "8314a576",
   "metadata": {
    "scrolled": true
   },
   "outputs": [],
   "source": [
    "cap = cv2.VideoCapture(0)\n",
    "cap.set(cv2.CAP_PROP_FPS, 60)\n",
    "cv2.namedWindow(\"preview\")\n",
    "\n",
    "while cap.isOpened():\n",
    "    ret, frame = cap.read()\n",
    "    \n",
    "    if frame is not None:\n",
    "        processed_frame = [frame.flatten()[0:921600]]\n",
    "\n",
    "        prediction = model.predict(processed_frame)\n",
    "\n",
    "        cv2.putText(frame, f\"Shade: {prediction[0]}\", (10, 30), cv2.FONT_HERSHEY_SIMPLEX, 1, (0, 255, 0), 2)\n",
    "\n",
    "    cv2.imshow(\"preview\", frame)\n",
    "\n",
    "\n",
    "    if cv2.waitKey(1) & 0xFF == ord('q'):\n",
    "        break"
   ]
  },
  {
   "cell_type": "code",
   "execution_count": null,
   "id": "2ebcb35e",
   "metadata": {},
   "outputs": [],
   "source": []
  }
 ],
 "metadata": {
  "kernelspec": {
   "display_name": "Python 3 (ipykernel)",
   "language": "python",
   "name": "python3"
  },
  "language_info": {
   "codemirror_mode": {
    "name": "ipython",
    "version": 3
   },
   "file_extension": ".py",
   "mimetype": "text/x-python",
   "name": "python",
   "nbconvert_exporter": "python",
   "pygments_lexer": "ipython3",
   "version": "3.11.5"
  }
 },
 "nbformat": 4,
 "nbformat_minor": 5
}
